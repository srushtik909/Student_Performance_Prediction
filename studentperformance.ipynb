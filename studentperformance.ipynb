{
 "cells": [
  {
   "cell_type": "markdown",
   "id": "1c3eff17-e381-4528-a5d8-f470731e3239",
   "metadata": {},
   "source": [
    "# Student Performance Analysis Project"
   ]
  },
  {
   "cell_type": "markdown",
   "id": "242b659e-883b-4cc1-9336-0d793ecc7ae2",
   "metadata": {},
   "source": [
    "## 1. Project Setup and Data Preparation\n",
    "### 1.1 Set up environment"
   ]
  },
  {
   "cell_type": "code",
   "execution_count": null,
   "id": "f575eb53-19e3-4a88-9b1f-35926a01ccc8",
   "metadata": {},
   "outputs": [],
   "source": [
    "# Install necessary libraries (uncomment if needed)\n",
    "# !pip install pandas numpy matplotlib seaborn scikit-learn plotly scipy streamlit\n",
    "\n",
    "# Import libraries\n",
    "import pandas as pd\n",
    "import numpy as np\n",
    "import matplotlib.pyplot as plt\n",
    "import seaborn as sns\n",
    "from sklearn.model_selection import train_test_split\n",
    "from sklearn.preprocessing import StandardScaler, OneHotEncoder\n",
    "from sklearn.compose import ColumnTransformer\n",
    "from sklearn.pipeline import Pipeline\n",
    "from sklearn.linear_model import LinearRegression\n",
    "from sklearn.ensemble import RandomForestRegressor\n",
    "from sklearn.metrics import mean_squared_error, r2_score\n",
    "import plotly.express as px\n",
    "from scipy import stats\n",
    "from scipy.stats import f_oneway, chi2_contingency\n",
    "\n",
    "# Configure plots for better display in Jupyter\n",
    "%matplotlib inline\n",
    "plt.style.use('seaborn-whitegrid')\n",
    "sns.set_style('whitegrid')"
   ]
  },
  {
   "cell_type": "markdown",
   "id": "df1200db-86fe-4ff2-9972-ca03d4155ca5",
   "metadata": {},
   "source": [
    "### 1.2 Load and inspect the data"
   ]
  },
  {
   "cell_type": "code",
   "execution_count": null,
   "id": "188233a2-f015-4a64-95c0-28bb4f5e3fd9",
   "metadata": {},
   "outputs": [],
   "source": [
    "# Load the data\n",
    "df = pd.read_csv('student_performance_large_dataset.csv')\n",
    "\n",
    "# View basic information\n",
    "print(\"Dataset information:\")\n",
    "print(df.info())\n",
    "print(\"\\nSummary statistics:\")\n",
    "print(df.describe())\n",
    "\n",
    "# Check for missing values\n",
    "print(\"\\nMissing values in each column:\")\n",
    "print(df.isnull().sum())"
   ]
  },
  {
   "cell_type": "markdown",
   "id": "363dcc40-e210-45a8-bc1b-e592a99a250e",
   "metadata": {},
   "source": [
    "### 1.3 Data cleaning"
   ]
  },
  {
   "cell_type": "code",
   "execution_count": null,
   "id": "1270df2f-0bfa-4ab3-9ac3-a0da37dbf372",
   "metadata": {},
   "outputs": [],
   "source": [
    "# Handle any missing values\n",
    "df_cleaned = df.dropna()  # or use imputation methods if appropriate\n",
    "print(f\"Rows before cleaning: {len(df)}\")\n",
    "print(f\"Rows after removing missing values: {len(df_cleaned)}\")\n",
    "\n",
    "# Check for duplicates\n",
    "duplicates = df_cleaned.duplicated().sum()\n",
    "print(f\"Number of duplicate entries: {duplicates}\")\n",
    "df_cleaned = df_cleaned.drop_duplicates()\n",
    "print(f\"Rows after removing duplicates: {len(df_cleaned)}\")\n",
    "\n",
    "# Convert categorical variables to appropriate types\n",
    "categorical_cols = ['Gender', 'Preferred_Learning_Style', 'Participation_in_Discussions', \n",
    "                   'Use_of_Educational_Tech', 'Self_Reported_Stress_Level', 'Final_Grade']\n",
    "for col in categorical_cols:\n",
    "    df_cleaned[col] = df_cleaned[col].astype('category')\n",
    "    \n",
    "# Verify the data types\n",
    "print(\"\\nUpdated data types:\")\n",
    "print(df_cleaned.dtypes)\n",
    "\n",
    "# Save our cleaned dataframe for later use\n",
    "df = df_cleaned"
   ]
  },
  {
   "cell_type": "markdown",
   "id": "13523f2d-9a9c-4a96-bcb3-1184e353d582",
   "metadata": {},
   "source": [
    "## 2. Exploratory Data Analysis (EDA)\n",
    "### 2.1 Distribution of key variables"
   ]
  },
  {
   "cell_type": "code",
   "execution_count": null,
   "id": "eb221f1e-4c7c-436b-8981-019cb5b1fa62",
   "metadata": {},
   "outputs": [],
   "source": [
    "# Create histograms for numerical variables\n",
    "numerical_cols = ['Age', 'Study_Hours_per_Week', 'Online_Courses_Completed', \n",
    "                 'Assignment_Completion_Rate (%)', 'Exam_Score (%)', 'Attendance_Rate (%)',\n",
    "                 'Time_Spent_on_Social_Media (hours/week)', 'Sleep_Hours_per_Night']\n",
    "\n",
    "plt.figure(figsize=(15, 10))\n",
    "for i, col in enumerate(numerical_cols, 1):\n",
    "    plt.subplot(2, 4, i)\n",
    "    sns.histplot(df[col], kde=True)\n",
    "    plt.title(f'Distribution of {col}')\n",
    "plt.tight_layout()\n",
    "plt.savefig('outputs/plots/numerical_distributions.png', dpi=300)\n",
    "plt.show()\n",
    "\n",
    "# Create count plots for categorical variables\n",
    "plt.figure(figsize=(15, 10))\n",
    "for i, col in enumerate(categorical_cols, 1):\n",
    "    plt.subplot(2, 3, i)\n",
    "    sns.countplot(x=col, data=df)\n",
    "    plt.title(f'Distribution of {col}')\n",
    "    plt.xticks(rotation=45)\n",
    "plt.tight_layout()\n",
    "plt.savefig('outputs/plots/categorical_distributions.png', dpi=300)\n",
    "plt.show()"
   ]
  },
  {
   "cell_type": "markdown",
   "id": "603b66cf-3322-4b85-a87a-1124a226446d",
   "metadata": {},
   "source": [
    "### 2.2 Correlation analysis"
   ]
  },
  {
   "cell_type": "code",
   "execution_count": null,
   "id": "a7970e06-3083-46bd-b1ea-773b3055e3e3",
   "metadata": {},
   "outputs": [],
   "source": [
    "# Calculate correlations between numerical variables\n",
    "correlation_matrix = df[numerical_cols].corr()\n",
    "\n",
    "# Create a heatmap\n",
    "plt.figure(figsize=(12, 10))\n",
    "sns.heatmap(correlation_matrix, annot=True, cmap='coolwarm', linewidths=0.5)\n",
    "plt.title('Correlation Matrix of Numerical Variables')\n",
    "plt.savefig('outputs/plots/correlation_matrix.png', dpi=300)\n",
    "plt.show()"
   ]
  },
  {
   "cell_type": "markdown",
   "id": "844ec13a-cf1f-4b2f-a050-ac6198947c66",
   "metadata": {},
   "source": [
    "### 2.3 Relationship between study hours and exam score"
   ]
  },
  {
   "cell_type": "code",
   "execution_count": null,
   "id": "476e9796-11d9-45bd-95e4-6f1c3e8b6bd6",
   "metadata": {},
   "outputs": [],
   "source": [
    "plt.figure(figsize=(10, 6))\n",
    "sns.scatterplot(x='Study_Hours_per_Week', y='Exam_Score (%)', data=df, hue='Gender', alpha=0.7)\n",
    "plt.title('Relationship Between Study Hours and Exam Score')\n",
    "plt.savefig('outputs/plots/study_hours_vs_exam_score.png', dpi=300)\n",
    "plt.show()"
   ]
  },
  {
   "cell_type": "markdown",
   "id": "ffe8f735-9283-4cc4-b5c6-a3924999a42e",
   "metadata": {},
   "source": [
    "### 2.4 Performance by learning style"
   ]
  },
  {
   "cell_type": "code",
   "execution_count": null,
   "id": "e7f9dd35-8a40-4543-a5b1-254d460516e0",
   "metadata": {},
   "outputs": [],
   "source": [
    "plt.figure(figsize=(12, 6))\n",
    "sns.boxplot(x='Preferred_Learning_Style', y='Exam_Score (%)', data=df)\n",
    "plt.title('Exam Scores by Learning Style')\n",
    "plt.savefig('outputs/plots/exam_scores_by_learning_style.png', dpi=300)\n",
    "plt.show()"
   ]
  },
  {
   "cell_type": "markdown",
   "id": "03f58288-2560-4543-a6e5-f50606ae37fc",
   "metadata": {},
   "source": [
    "### 2.5 Impact of sleep and social media"
   ]
  },
  {
   "cell_type": "code",
   "execution_count": null,
   "id": "1297238d-a1a2-4366-a720-620374ec76c3",
   "metadata": {},
   "outputs": [],
   "source": [
    "fig = plt.figure(figsize=(15, 6))\n",
    "\n",
    "plt.subplot(1, 2, 1)\n",
    "sns.scatterplot(x='Sleep_Hours_per_Night', y='Exam_Score (%)', data=df, hue='Self_Reported_Stress_Level')\n",
    "plt.title('Sleep Hours vs Exam Score')\n",
    "\n",
    "plt.subplot(1, 2, 2)\n",
    "sns.scatterplot(x='Time_Spent_on_Social_Media (hours/week)', y='Exam_Score (%)', data=df, hue='Self_Reported_Stress_Level')\n",
    "plt.title('Social Media Usage vs Exam Score')\n",
    "\n",
    "plt.tight_layout()\n",
    "plt.savefig('outputs/plots/sleep_social_media_impact.png', dpi=300)\n",
    "plt.show()"
   ]
  },
  {
   "cell_type": "markdown",
   "id": "df54e6c5-b3d1-439a-9270-87d9ca2b96da",
   "metadata": {},
   "source": [
    "## 3. Statistical Analysis\n",
    "### 3.1 Hypothesis testing - Effect of participation in discussions"
   ]
  },
  {
   "cell_type": "code",
   "execution_count": null,
   "id": "fce955dc-5c37-4cb1-bc0d-d7580b809040",
   "metadata": {},
   "outputs": [],
   "source": [
    "from scipy import stats\n",
    "\n",
    "# Compare exam scores for students who participate in discussions vs those who don't\n",
    "participants = df[df['Participation_in_Discussions'] == 'Yes']['Exam_Score (%)']\n",
    "non_participants = df[df['Participation_in_Discussions'] == 'No']['Exam_Score (%)']\n",
    "\n",
    "t_stat, p_value = stats.ttest_ind(participants, non_participants)\n",
    "print(f\"T-test results: t-statistic = {t_stat:.4f}, p-value = {p_value:.4f}\")\n",
    "print(f\"Mean exam score for participants: {participants.mean():.2f}%\")\n",
    "print(f\"Mean exam score for non-participants: {non_participants.mean():.2f}%\")"
   ]
  },
  {
   "cell_type": "markdown",
   "id": "7b29f4c9-79a9-4f85-a640-93f489ef384c",
   "metadata": {},
   "source": [
    "### 3.2 ANOVA - Comparing learning styles"
   ]
  },
  {
   "cell_type": "code",
   "execution_count": null,
   "id": "323a13e3-580c-4179-b6ff-67c5395d25d4",
   "metadata": {},
   "outputs": [],
   "source": [
    "from scipy.stats import f_oneway\n",
    "\n",
    "# Create groups based on learning styles\n",
    "visual = df[df['Preferred_Learning_Style'] == 'Visual']['Exam_Score (%)']\n",
    "auditory = df[df['Preferred_Learning_Style'] == 'Auditory']['Exam_Score (%)']\n",
    "reading_writing = df[df['Preferred_Learning_Style'] == 'Reading/Writing']['Exam_Score (%)']\n",
    "kinesthetic = df[df['Preferred_Learning_Style'] == 'Kinesthetic']['Exam_Score (%)']\n",
    "\n",
    "# Perform ANOVA\n",
    "f_stat, p_value = f_oneway(visual, auditory, reading_writing, kinesthetic)\n",
    "print(f\"ANOVA results: F-statistic = {f_stat:.4f}, p-value = {p_value:.4f}\")\n",
    "print(f\"Mean exam scores by learning style:\")\n",
    "print(f\"Visual: {visual.mean():.2f}%\")\n",
    "print(f\"Auditory: {auditory.mean():.2f}%\")\n",
    "print(f\"Reading/Writing: {reading_writing.mean():.2f}%\")\n",
    "print(f\"Kinesthetic: {kinesthetic.mean():.2f}%\")"
   ]
  },
  {
   "cell_type": "markdown",
   "id": "c28b71b2-e795-4a37-a09f-e7bbc26a82ea",
   "metadata": {},
   "source": [
    "### 3.3 Chi-squared test - Learning style and final grade"
   ]
  },
  {
   "cell_type": "code",
   "execution_count": null,
   "id": "c135af42-9591-4661-aa6e-9405859b5912",
   "metadata": {},
   "outputs": [],
   "source": [
    "from scipy.stats import chi2_contingency\n",
    "\n",
    "# Create a contingency table\n",
    "contingency_table = pd.crosstab(df['Preferred_Learning_Style'], df['Final_Grade'])\n",
    "print(\"Contingency Table:\")\n",
    "print(contingency_table)\n",
    "\n",
    "# Perform chi-squared test\n",
    "chi2, p, dof, expected = chi2_contingency(contingency_table)\n",
    "print(f\"Chi-squared test results: chi2 = {chi2:.4f}, p-value = {p:.4f}\")"
   ]
  },
  {
   "cell_type": "markdown",
   "id": "d4372ca0-0502-499f-86fa-89b95671b34e",
   "metadata": {},
   "source": [
    "## 4. Predictive Modeling\n",
    "### 4.1 Data preparation for modeling"
   ]
  },
  {
   "cell_type": "code",
   "execution_count": null,
   "id": "5b337930-62a3-4e62-ac48-917c8757a307",
   "metadata": {},
   "outputs": [],
   "source": [
    "# Define features and target\n",
    "X = df.drop(['Student_ID', 'Exam_Score (%)', 'Final_Grade'], axis=1)\n",
    "y = df['Exam_Score (%)']\n",
    "\n",
    "# Split data into training and testing sets\n",
    "X_train, X_test, y_train, y_test = train_test_split(X, y, test_size=0.2, random_state=42)\n",
    "print(f\"Training set size: {X_train.shape[0]} samples\")\n",
    "print(f\"Test set size: {X_test.shape[0]} samples\")\n",
    "\n",
    "# Identify numerical and categorical columns\n",
    "numerical_cols = X.select_dtypes(include=['int64', 'float64']).columns.tolist()\n",
    "categorical_cols = X.select_dtypes(include=['category']).columns.tolist()\n",
    "print(f\"Numerical columns: {len(numerical_cols)}\")\n",
    "print(f\"Categorical columns: {len(categorical_cols)}\")\n",
    "\n",
    "# Create preprocessing pipeline\n",
    "preprocessor = ColumnTransformer(\n",
    "    transformers=[\n",
    "        ('num', StandardScaler(), numerical_cols),\n",
    "        ('cat', OneHotEncoder(handle_unknown='ignore'), categorical_cols)\n",
    "    ])"
   ]
  },
  {
   "cell_type": "markdown",
   "id": "e2b6a3ba-cdc1-452f-a088-632cc30b28b3",
   "metadata": {},
   "source": [
    "### 4.2 Linear Regression model"
   ]
  },
  {
   "cell_type": "code",
   "execution_count": null,
   "id": "bee58930-210c-42d5-8395-4870506791e2",
   "metadata": {},
   "outputs": [],
   "source": [
    "# Create pipeline with preprocessing and linear regression\n",
    "lr_pipeline = Pipeline(steps=[\n",
    "    ('preprocessor', preprocessor),\n",
    "    ('regressor', LinearRegression())\n",
    "])\n",
    "\n",
    "# Train the model\n",
    "lr_pipeline.fit(X_train, y_train)\n",
    "\n",
    "# Make predictions\n",
    "y_pred_lr = lr_pipeline.predict(X_test)\n",
    "\n",
    "# Evaluate the model\n",
    "mse_lr = mean_squared_error(y_test, y_pred_lr)\n",
    "r2_lr = r2_score(y_test, y_pred_lr)\n",
    "print(f\"Linear Regression Results:\")\n",
    "print(f\"Mean Squared Error: {mse_lr:.2f}\")\n",
    "print(f\"R² Score: {r2_lr:.2f}\")\n",
    "\n",
    "# Save the model\n",
    "import joblib\n",
    "joblib.dump(lr_pipeline, 'outputs/models/linear_regression_model.pkl')"
   ]
  },
  {
   "cell_type": "markdown",
   "id": "b2bc00fe-cecb-4b43-b3c8-34b165ece820",
   "metadata": {},
   "source": [
    "### 4.3 Random Forest model|"
   ]
  },
  {
   "cell_type": "code",
   "execution_count": null,
   "id": "cafdad06-66bf-4bad-b5cd-ab565ac87188",
   "metadata": {},
   "outputs": [],
   "source": [
    "# Create pipeline with preprocessing and random forest\n",
    "rf_pipeline = Pipeline(steps=[\n",
    "    ('preprocessor', preprocessor),\n",
    "    ('regressor', RandomForestRegressor(n_estimators=100, random_state=42))\n",
    "])\n",
    "\n",
    "# Train the model\n",
    "rf_pipeline.fit(X_train, y_train)\n",
    "\n",
    "# Make predictions\n",
    "y_pred_rf = rf_pipeline.predict(X_test)\n",
    "\n",
    "# Evaluate the model\n",
    "mse_rf = mean_squared_error(y_test, y_pred_rf)\n",
    "r2_rf = r2_score(y_test, y_pred_rf)\n",
    "print(f\"Random Forest Results:\")\n",
    "print(f\"Mean Squared Error: {mse_rf:.2f}\")\n",
    "print(f\"R² Score: {r2_rf:.2f}\")\n",
    "\n",
    "# Save the model\n",
    "joblib.dump(rf_pipeline, 'outputs/models/random_forest_model.pkl')"
   ]
  },
  {
   "cell_type": "markdown",
   "id": "4724c969-f407-4995-bec8-a08ae599bcf1",
   "metadata": {},
   "source": [
    "### 4.4 Feature importance analysis"
   ]
  },
  {
   "cell_type": "code",
   "execution_count": null,
   "id": "4a0063a2-78c2-4af9-918d-f8ac4584b9bd",
   "metadata": {},
   "outputs": [],
   "source": [
    "# Extract feature names after one-hot encoding\n",
    "feature_names = []\n",
    "\n",
    "# Get the names of the features after one-hot encoding\n",
    "ohe = preprocessor.named_transformers_['cat']\n",
    "for i, col in enumerate(categorical_cols):\n",
    "    feature_names.extend([f\"{col}_{category}\" for category in \n",
    "                         ohe.categories_[i]])\n",
    "\n",
    "# Add the numerical column names\n",
    "feature_names.extend(numerical_cols)\n",
    "\n",
    "# Get feature importances from the random forest model\n",
    "rf_model = rf_pipeline.named_steps['regressor']\n",
    "importances = rf_model.feature_importances_\n",
    "\n",
    "# Create DataFrame for easier manipulation\n",
    "feature_importance_df = pd.DataFrame({\n",
    "    'Feature': feature_names,\n",
    "    'Importance': importances\n",
    "}).sort_values(by='Importance', ascending=False)\n",
    "\n",
    "# Plot feature importances\n",
    "plt.figure(figsize=(12, 8))\n",
    "sns.barplot(x='Importance', y='Feature', data=feature_importance_df.head(15))\n",
    "plt.title('Top 15 Feature Importances')\n",
    "plt.tight_layout()\n",
    "plt.savefig('outputs/plots/feature_importances.png', dpi=300)\n",
    "plt.show()"
   ]
  },
  {
   "cell_type": "markdown",
   "id": "0fd2b01d-e10d-4b39-a4d2-b4558011e3f8",
   "metadata": {},
   "source": [
    "## 5. Advanced Visualizations\n",
    "### 5.1 Create interactive plots with Plotly"
   ]
  },
  {
   "cell_type": "code",
   "execution_count": null,
   "id": "efa55031-b3c2-46b1-8b3b-09cbb5ee83ae",
   "metadata": {},
   "outputs": [],
   "source": [
    "# Interactive scatter plot for study hours vs exam score by learning style\n",
    "fig = px.scatter(df, x='Study_Hours_per_Week', y='Exam_Score (%)', \n",
    "                color='Preferred_Learning_Style', size='Attendance_Rate (%)',\n",
    "                hover_data=['Student_ID', 'Age', 'Gender', 'Final_Grade'],\n",
    "                title='Study Hours vs Exam Score by Learning Style')\n",
    "fig.write_html('outputs/interactive/interactive_scatter.html')\n",
    "# Display in notebook\n",
    "fig.show()\n",
    "\n",
    "# Interactive box plot for exam score by stress level and gender\n",
    "fig = px.box(df, x='Self_Reported_Stress_Level', y='Exam_Score (%)', \n",
    "            color='Gender', title='Exam Scores by Stress Level and Gender')\n",
    "fig.write_html('outputs/interactive/stress_gender_boxplot.html')\n",
    "# Display in notebook\n",
    "fig.show()\n",
    "\n",
    "# Interactive heatmap for average exam score by study hours and sleep\n",
    "study_sleep_heatmap = df.pivot_table(\n",
    "    values='Exam_Score (%)', \n",
    "    index=pd.cut(df['Study_Hours_per_Week'], bins=10), \n",
    "    columns=pd.cut(df['Sleep_Hours_per_Night'], bins=7),\n",
    "    aggfunc='mean'\n",
    ")\n",
    "\n",
    "fig = px.imshow(study_sleep_heatmap, \n",
    "                labels=dict(x=\"Sleep Hours\", y=\"Study Hours\", color=\"Exam Score (%)\"),\n",
    "                title=\"Average Exam Score by Study Hours and Sleep Duration\")\n",
    "fig.write_html('outputs/interactive/study_sleep_heatmap.html')\n",
    "# Display in notebook\n",
    "fig.show()"
   ]
  },
  {
   "cell_type": "markdown",
   "id": "2dbfb8fa-3a2b-4067-89c9-5e5fdc83918b",
   "metadata": {},
   "source": [
    "## 6. Findings and Report Creation\n",
    "### 6.1 Compile key findings"
   ]
  },
  {
   "cell_type": "code",
   "execution_count": null,
   "id": "bb84995d-a2a7-4081-892a-a8a90f1fd9cd",
   "metadata": {},
   "outputs": [],
   "source": [
    "# Compile and save key findings\n",
    "with open('outputs/key_findings.txt', 'w') as f:\n",
    "    f.write(\"# Key Findings from Student Performance Analysis\\n\\n\")\n",
    "    \n",
    "    f.write(\"## Correlation Analysis\\n\")\n",
    "    f.write(\"- Study Hours and Exam Score correlation: {:.2f}\\n\".format(\n",
    "        df['Study_Hours_per_Week'].corr(df['Exam_Score (%)'])))\n",
    "    f.write(\"- Attendance and Exam Score correlation: {:.2f}\\n\".format(\n",
    "        df['Attendance_Rate (%)'].corr(df['Exam_Score (%)'])))\n",
    "    f.write(\"- Social Media and Exam Score correlation: {:.2f}\\n\\n\".format(\n",
    "        df['Time_Spent_on_Social_Media (hours/week)'].corr(df['Exam_Score (%)'])))\n",
    "    \n",
    "    f.write(\"## Learning Style Analysis\\n\")\n",
    "    for style in df['Preferred_Learning_Style'].unique():\n",
    "        avg_score = df[df['Preferred_Learning_Style'] == style]['Exam_Score (%)'].mean()\n",
    "        f.write(\"- {} learners average score: {:.2f}%\\n\".format(style, avg_score))\n",
    "    f.write(\"\\n\")\n",
    "    \n",
    "    f.write(\"## Impact of Participation in Discussions\\n\")\n",
    "    participants_avg = df[df['Participation_in_Discussions'] == 'Yes']['Exam_Score (%)'].mean()\n",
    "    non_participants_avg = df[df['Participation_in_Discussions'] == 'No']['Exam_Score (%)'].mean()\n",
    "    f.write(\"- Participants average score: {:.2f}%\\n\".format(participants_avg))\n",
    "    f.write(\"- Non-participants average score: {:.2f}%\\n\\n\".format(non_participants_avg))\n",
    "    \n",
    "    f.write(\"## Study Hours Analysis\\n\")\n",
    "    df['Study_Hours_Category'] = pd.cut(df['Study_Hours_per_Week'], \n",
    "                                       bins=[0, 10, 20, 30, 40, 50],\n",
    "                                       labels=['<10 hrs', '10-20 hrs', '20-30 hrs', '30-40 hrs', '40+ hrs'])\n",
    "    for category in df['Study_Hours_Category'].unique():\n",
    "        avg_score = df[df['Study_Hours_Category'] == category]['Exam_Score (%)'].mean()\n",
    "        f.write(\"- {} average score: {:.2f}%\\n\".format(category, avg_score))\n",
    "    f.write(\"\\n\")\n",
    "    \n",
    "    f.write(\"## Model Performance\\n\")\n",
    "    f.write(\"- Linear Regression R² Score: {:.2f}\\n\".format(r2_lr))\n",
    "    f.write(\"- Random Forest R² Score: {:.2f}\\n\".format(r2_rf))\n",
    "    f.write(\"\\n\")\n",
    "    \n",
    "    # Add top 5 important features\n",
    "    f.write(\"## Top 5 Important Features\\n\")\n",
    "    for i in range(5):\n",
    "        f.write(\"- {}: {:.4f}\\n\".format(\n",
    "            feature_importance_df.iloc[i]['Feature'], \n",
    "            feature_importance_df.iloc[i]['Importance']))\n",
    "\n",
    "# Read back the file to display in the notebook\n",
    "with open('outputs/key_findings.txt', 'r') as f:\n",
    "    print(f.read())"
   ]
  },
  {
   "cell_type": "markdown",
   "id": "ed93af03-3bde-4d47-80cc-694fdc2569d6",
   "metadata": {},
   "source": [
    "## Running the Dashboard"
   ]
  },
  {
   "cell_type": "code",
   "execution_count": null,
   "id": "09c8affa-f6f5-4447-bbca-3a74ccd16c1a",
   "metadata": {},
   "outputs": [],
   "source": []
  }
 ],
 "metadata": {
  "kernelspec": {
   "display_name": "Python 3 (ipykernel)",
   "language": "python",
   "name": "python3"
  },
  "language_info": {
   "codemirror_mode": {
    "name": "ipython",
    "version": 3
   },
   "file_extension": ".py",
   "mimetype": "text/x-python",
   "name": "python",
   "nbconvert_exporter": "python",
   "pygments_lexer": "ipython3",
   "version": "3.13.2"
  }
 },
 "nbformat": 4,
 "nbformat_minor": 5
}
